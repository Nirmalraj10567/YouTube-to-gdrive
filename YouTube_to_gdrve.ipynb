{
  "nbformat": 4,
  "nbformat_minor": 0,
  "metadata": {
    "colab": {
      "name": "YouTube to gdrve.ipynb",
      "provenance": [],
      "authorship_tag": "ABX9TyMXNeRE8Ah2bQtYzbMeEOxL",
      "include_colab_link": true
    },
    "kernelspec": {
      "name": "python3",
      "display_name": "Python 3"
    }
  },
  "cells": [
    {
      "cell_type": "markdown",
      "metadata": {
        "id": "view-in-github",
        "colab_type": "text"
      },
      "source": [
        "<a href=\"https://colab.research.google.com/github/Nirmalraj10567/YouTube-to-gdrive/blob/master/YouTube_to_gdrve.ipynb\" target=\"_parent\"><img src=\"https://colab.research.google.com/assets/colab-badge.svg\" alt=\"Open In Colab\"/></a>"
      ]
    },
    {
      "cell_type": "code",
      "metadata": {
        "id": "1z5JiReZ0z7O",
        "colab_type": "code",
        "colab": {}
      },
      "source": [
        " \n",
        "from google.colab import drive\n",
        "drive.mount('/content/drive')"
      ],
      "execution_count": null,
      "outputs": []
    },
    {
      "cell_type": "markdown",
      "metadata": {
        "id": "AV2dfGaK08qc",
        "colab_type": "text"
      },
      "source": [
        "Enter Auth code"
      ]
    },
    {
      "cell_type": "code",
      "metadata": {
        "id": "F-YM8s2S1AZc",
        "colab_type": "code",
        "colab": {
          "base_uri": "https://localhost:8080/",
          "height": 122
        },
        "outputId": "8511498f-556f-4591-a30e-be678930e55a"
      },
      "source": [
        " pip install pytube3"
      ],
      "execution_count": null,
      "outputs": [
        {
          "output_type": "stream",
          "text": [
            "Collecting pytube3\n",
            "  Downloading https://files.pythonhosted.org/packages/de/86/198092763646eac7abd2063192ab44ea44ad8fd6d6f3ad8586b38afcd52a/pytube3-9.6.4-py3-none-any.whl\n",
            "Requirement already satisfied: typing-extensions in /usr/local/lib/python3.6/dist-packages (from pytube3) (3.7.4.2)\n",
            "Installing collected packages: pytube3\n",
            "Successfully installed pytube3-9.6.4\n"
          ],
          "name": "stdout"
        }
      ]
    },
    {
      "cell_type": "markdown",
      "metadata": {
        "id": "WdL7HxBZ1FSK",
        "colab_type": "text"
      },
      "source": [
        "Install YouTube library"
      ]
    },
    {
      "cell_type": "code",
      "metadata": {
        "id": "Wk1IddyR1N6D",
        "colab_type": "code",
        "colab": {}
      },
      "source": [
        " \n",
        "from pytube import YouTube\n",
        "link = input(\"Enter the link: \")"
      ],
      "execution_count": null,
      "outputs": []
    },
    {
      "cell_type": "markdown",
      "metadata": {
        "id": "Do6LySMj1RNJ",
        "colab_type": "text"
      },
      "source": [
        "Enter your YouTube link in above container"
      ]
    },
    {
      "cell_type": "code",
      "metadata": {
        "id": "B0U1huy11Zms",
        "colab_type": "code",
        "colab": {}
      },
      "source": [
        " print(yt.streams)"
      ],
      "execution_count": null,
      "outputs": []
    },
    {
      "cell_type": "markdown",
      "metadata": {
        "id": "_pBy2JyY1dqn",
        "colab_type": "text"
      },
      "source": [
        "In above tells streaming quality by id of their arguments"
      ]
    },
    {
      "cell_type": "code",
      "metadata": {
        "id": "nrnhpcsD1n4m",
        "colab_type": "code",
        "colab": {}
      },
      "source": [
        " ys = yt.streams.get_by_itag('18')"
      ],
      "execution_count": null,
      "outputs": []
    },
    {
      "cell_type": "markdown",
      "metadata": {
        "id": "zLSp51TY1530",
        "colab_type": "text"
      },
      "source": [
        "Get streaming quality choosing their id"
      ]
    },
    {
      "cell_type": "code",
      "metadata": {
        "id": "t4eSp5_72On6",
        "colab_type": "code",
        "colab": {}
      },
      "source": [
        " ys.download(\"/content/drive/My Drive/YouTube-downloads/\")"
      ],
      "execution_count": null,
      "outputs": []
    },
    {
      "cell_type": "markdown",
      "metadata": {
        "id": "IYNB4YnA2PpU",
        "colab_type": "text"
      },
      "source": [
        "Downloading files with their path"
      ]
    }
  ]
}