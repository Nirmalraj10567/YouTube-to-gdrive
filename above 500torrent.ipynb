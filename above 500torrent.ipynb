{
  "nbformat": 4,
  "nbformat_minor": 0,
  "metadata": {
    "colab": {
      "name": "Untitled21.ipynb",
      "provenance": [],
      "authorship_tag": "ABX9TyM9B9eqo58mY9z2bqZexSKD",
      "include_colab_link": true
    },
    "kernelspec": {
      "name": "python3",
      "display_name": "Python 3"
    }
  },
  "cells": [
    {
      "cell_type": "markdown",
      "metadata": {
        "id": "view-in-github",
        "colab_type": "text"
      },
      "source": [
        "<a href=\"https://colab.research.google.com/github/Nirmalraj10567/YouTube-to-gdrive/blob/master/above%20500torrent.ipynb\" target=\"_parent\"><img src=\"https://colab.research.google.com/assets/colab-badge.svg\" alt=\"Open In Colab\"/></a>"
      ]
    },
    {
      "cell_type": "code",
      "metadata": {
        "id": "ozcydDKG2-AF",
        "colab_type": "code",
        "colab": {
          "base_uri": "https://localhost:8080/",
          "height": 34
        },
        "outputId": "82049859-d668-41f2-ee2b-3cd802952c3d"
      },
      "source": [
        "from google.colab import drive\n",
        "drive.mount('/content/drive')"
      ],
      "execution_count": 1,
      "outputs": [
        {
          "output_type": "stream",
          "text": [
            "Mounted at /content/drive\n"
          ],
          "name": "stdout"
        }
      ]
    },
    {
      "cell_type": "code",
      "metadata": {
        "id": "-n4bQk-63Oh7",
        "colab_type": "code",
        "colab": {
          "base_uri": "https://localhost:8080/",
          "height": 34
        },
        "outputId": "913c6ff4-fd33-4388-e570-72d42708a8ab"
      },
      "source": [
        "import os\n",
        "print (os.getcwd())"
      ],
      "execution_count": null,
      "outputs": [
        {
          "output_type": "stream",
          "text": [
            "/content\n"
          ],
          "name": "stdout"
        }
      ]
    },
    {
      "cell_type": "code",
      "metadata": {
        "id": "ZNhxtFOm3m4B",
        "colab_type": "code",
        "colab": {
          "base_uri": "https://localhost:8080/",
          "height": 54
        },
        "outputId": "a2a27a22-9075-41ca-e0e7-595908e49cbf"
      },
      "source": [
        "import os\n",
        "os.chdir(\"/content/drive/Shared drives/HK ROBOT (1)\")\n",
        "print (os.getcwd())"
      ],
      "execution_count": null,
      "outputs": [
        {
          "output_type": "stream",
          "text": [
            "/content/drive/Shared drives/HK ROBOT (1)\n"
          ],
          "name": "stdout"
        }
      ]
    },
    {
      "cell_type": "code",
      "metadata": {
        "id": "2EV33DcF4GsR",
        "colab_type": "code",
        "colab": {
          "base_uri": "https://localhost:8080/",
          "height": 498
        },
        "outputId": "5f26b4a7-ce21-4e16-869f-c922928582d0"
      },
      "source": [
        "!apt install python3-libtorrent"
      ],
      "execution_count": 2,
      "outputs": [
        {
          "output_type": "stream",
          "text": [
            "Reading package lists... Done\n",
            "Building dependency tree       \n",
            "Reading state information... Done\n",
            "The following additional packages will be installed:\n",
            "  libtorrent-rasterbar9\n",
            "Suggested packages:\n",
            "  libtorrent-rasterbar-dbg\n",
            "The following NEW packages will be installed:\n",
            "  libtorrent-rasterbar9 python3-libtorrent\n",
            "0 upgraded, 2 newly installed, 0 to remove and 11 not upgraded.\n",
            "Need to get 1,569 kB of archives.\n",
            "After this operation, 5,718 kB of additional disk space will be used.\n",
            "Get:1 http://archive.ubuntu.com/ubuntu bionic/universe amd64 libtorrent-rasterbar9 amd64 1.1.5-1build1 [1,258 kB]\n",
            "Get:2 http://archive.ubuntu.com/ubuntu bionic/universe amd64 python3-libtorrent amd64 1.1.5-1build1 [310 kB]\n",
            "Fetched 1,569 kB in 3s (613 kB/s)\n",
            "Selecting previously unselected package libtorrent-rasterbar9.\n",
            "(Reading database ... 144676 files and directories currently installed.)\n",
            "Preparing to unpack .../libtorrent-rasterbar9_1.1.5-1build1_amd64.deb ...\n",
            "Unpacking libtorrent-rasterbar9 (1.1.5-1build1) ...\n",
            "Selecting previously unselected package python3-libtorrent.\n",
            "Preparing to unpack .../python3-libtorrent_1.1.5-1build1_amd64.deb ...\n",
            "Unpacking python3-libtorrent (1.1.5-1build1) ...\n",
            "Setting up libtorrent-rasterbar9 (1.1.5-1build1) ...\n",
            "Setting up python3-libtorrent (1.1.5-1build1) ...\n",
            "Processing triggers for libc-bin (2.27-3ubuntu1.2) ...\n",
            "/sbin/ldconfig.real: /usr/local/lib/python3.6/dist-packages/ideep4py/lib/libmkldnn.so.0 is not a symbolic link\n",
            "\n"
          ],
          "name": "stdout"
        }
      ]
    },
    {
      "cell_type": "code",
      "metadata": {
        "id": "onDCWaE04MVo",
        "colab_type": "code",
        "colab": {
          "base_uri": "https://localhost:8080/",
          "height": 430
        },
        "outputId": "1769f902-d2bc-441d-aa9b-3e7716164055"
      },
      "source": [
        "import libtorrent as lt\n",
        "import time\n",
        "import datetime\n",
        " \n",
        "ses = lt.session()\n",
        "ses.listen_on(6881, 6891)\n",
        "params = {\n",
        "    'save_path': '/content/drive/Shared drives/HK ROBOT (1)',\n",
        "    'storage_mode': lt.storage_mode_t(2),\n",
        "    'paused': False,\n",
        "    'auto_managed': True,\n",
        "    'duplicate_is_error': True}\n",
        "link =   input('Enter a magnetic link :')\n",
        "print (link)\n",
        "handle = lt.add_magnet_uri(ses, link, params)\n",
        "ses.start_dht()\n",
        " \n",
        "begin = time.time()\n",
        "print(datetime.datetime.now())\n",
        " \n",
        "print ('Downloading Metadata...')\n",
        "while (not handle.has_metadata()):\n",
        "    time.sleep(1)\n",
        "print ('Got Metadata, Starting Torrent Download...')\n",
        " \n",
        "print(\"Starting\", handle.name())\n",
        " \n",
        "while (handle.status().state != lt.torrent_status.seeding):\n",
        "    s = handle.status()\n",
        "    state_str = ['queued', 'checking', 'downloading metadata', \\\n",
        "            'downloading', 'finished', 'seeding', 'allocating']\n",
        "    print ('%.2f%% complete (down: %.1f kb/s up: %.1f kB/s peers: %d) %s ' % \\\n",
        "            (s.progress * 100, s.download_rate / 1000, s.upload_rate / 1000, \\\n",
        "            s.num_peers, state_str[s.state]))\n",
        "    time.sleep(5)\n",
        " \n",
        "end = time.time()\n",
        "print(handle.name(), \"COMPLETE\")\n",
        " \n",
        "print(\"Elapsed Time: \",int((end-begin)//60),\"min :\", int((end-begin)%60), \"sec\")\n",
        " \n",
        "print(datetime.datetime.now())"
      ],
      "execution_count": null,
      "outputs": [
        {
          "output_type": "stream",
          "text": [
            "Enter a magnetic link :magnet:?xt=urn:btih:554491C7E605D11BF30324D5E4CA4509D0662A9E&dn=%5BAnimeRG%5D+Naruto+Shippuden+%28Complete+Series+001-500%29+Naruto+Shippuuden+%5B720p%5D+%5BHEVC%5D+%5Bx265%5D+%5BBatch%5D+%5Bpseudo%5D&tr=http%3A%2F%2Ftracker.opentrackr.org%3A1337%2Fannounce&tr=udp%3A%2F%2Ftracker.ilibr.org%3A6969%2Fannounce&tr=http%3A%2F%2Fanidex.moe%3A6969%2Fannounce&tr=udp%3A%2F%2Ftracker.coppersurfer.tk%3A6969%2Fannounce&tr=http%3A%2F%2Fpow7.com%2Fannounce&tr=udp%3A%2F%2F9.rarbg.com%3A2710%2Fannounce&tr=udp%3A%2F%2Ftracker.torrent.eu.org%3A451%2Fannounce&tr=udp%3A%2F%2Ftracker.piratepublic.com%3A1337%2Fannounce&tr=http%3A%2F%2Ftracker.anirena.com%3A80%2Fannounce&tr=udp%3A%2F%2Ftracker.zer0day.to%3A1337%2Fannounce&tr=udp%3A%2F%2Ftracker.leechers-paradise.org%3A6969%2Fannounce&tr=udp%3A%2F%2Fcoppersurfer.tk%3A6969%2Fannounce\n",
            "magnet:?xt=urn:btih:554491C7E605D11BF30324D5E4CA4509D0662A9E&dn=%5BAnimeRG%5D+Naruto+Shippuden+%28Complete+Series+001-500%29+Naruto+Shippuuden+%5B720p%5D+%5BHEVC%5D+%5Bx265%5D+%5BBatch%5D+%5Bpseudo%5D&tr=http%3A%2F%2Ftracker.opentrackr.org%3A1337%2Fannounce&tr=udp%3A%2F%2Ftracker.ilibr.org%3A6969%2Fannounce&tr=http%3A%2F%2Fanidex.moe%3A6969%2Fannounce&tr=udp%3A%2F%2Ftracker.coppersurfer.tk%3A6969%2Fannounce&tr=http%3A%2F%2Fpow7.com%2Fannounce&tr=udp%3A%2F%2F9.rarbg.com%3A2710%2Fannounce&tr=udp%3A%2F%2Ftracker.torrent.eu.org%3A451%2Fannounce&tr=udp%3A%2F%2Ftracker.piratepublic.com%3A1337%2Fannounce&tr=http%3A%2F%2Ftracker.anirena.com%3A80%2Fannounce&tr=udp%3A%2F%2Ftracker.zer0day.to%3A1337%2Fannounce&tr=udp%3A%2F%2Ftracker.leechers-paradise.org%3A6969%2Fannounce&tr=udp%3A%2F%2Fcoppersurfer.tk%3A6969%2Fannounce\n",
            "2020-09-21 13:03:20.885457\n",
            "Downloading Metadata...\n",
            "Got Metadata, Starting Torrent Download...\n",
            "Starting [AnimeRG] Naruto Shippuden (Complete Series 001-500) Naruto Shippuuden [720p] [HEVC] [x265] [Batch] [pseudo]\n",
            "0.00% complete (down: 53.0 kb/s up: 2.3 kB/s peers: 4) downloading \n",
            "0.01% complete (down: 577.3 kb/s up: 18.7 kB/s peers: 11) downloading \n",
            "0.03% complete (down: 1834.7 kb/s up: 58.5 kB/s peers: 15) downloading \n",
            "0.05% complete (down: 2602.3 kb/s up: 83.8 kB/s peers: 14) downloading \n",
            "0.07% complete (down: 2401.3 kb/s up: 76.0 kB/s peers: 11) downloading \n",
            "0.09% complete (down: 2307.1 kb/s up: 74.5 kB/s peers: 18) downloading \n",
            "0.12% complete (down: 3081.5 kb/s up: 110.6 kB/s peers: 22) downloading \n",
            "0.16% complete (down: 3946.7 kb/s up: 140.9 kB/s peers: 29) downloading \n",
            "0.18% complete (down: 4177.5 kb/s up: 144.0 kB/s peers: 41) downloading \n",
            "0.22% complete (down: 4188.4 kb/s up: 134.2 kB/s peers: 70) downloading \n",
            "0.25% complete (down: 3925.6 kb/s up: 145.5 kB/s peers: 87) downloading \n",
            "0.27% complete (down: 3864.2 kb/s up: 137.4 kB/s peers: 94) downloading \n",
            "0.32% complete (down: 3746.0 kb/s up: 132.5 kB/s peers: 115) downloading \n",
            "0.34% complete (down: 3782.4 kb/s up: 140.0 kB/s peers: 118) downloading \n",
            "0.38% complete (down: 3439.1 kb/s up: 129.5 kB/s peers: 118) downloading \n",
            "0.41% complete (down: 3394.7 kb/s up: 125.3 kB/s peers: 119) downloading \n",
            "0.44% complete (down: 3584.5 kb/s up: 134.8 kB/s peers: 126) downloading \n"
          ],
          "name": "stdout"
        }
      ]
    }
  ]
}